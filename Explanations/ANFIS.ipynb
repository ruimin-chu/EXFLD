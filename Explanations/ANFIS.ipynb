{
 "cells": [
  {
   "cell_type": "code",
   "execution_count": 16,
   "id": "initial_id",
   "metadata": {
    "collapsed": true,
    "ExecuteTime": {
     "end_time": "2024-09-27T04:44:10.093283400Z",
     "start_time": "2024-09-27T04:44:10.063089700Z"
    }
   },
   "outputs": [],
   "source": [
    "import numpy as np\n",
    "import pandas as pd\n",
    "import ANFIS.load_weights as load_weights\n",
    "import torch\n",
    "import re\n",
    "import glob\n",
    "from IPython.display import Markdown, display"
   ]
  },
  {
   "cell_type": "code",
   "execution_count": 2,
   "outputs": [],
   "source": [
    "def daily_format(df):\n",
    "    df = df[df['period'] == 0]\n",
    "    daily = pd.DataFrame(columns=['Day', 'TankTemp', 'ClosingStock_tc_readjusted', 'ClosingHeight_tc_readjusted', 'Var_tc_readjusted'])\n",
    "    for day, day_group in df.groupby(df['Time'].dt.date):\n",
    "        last_status = day_group.iloc[-1]\n",
    "        daily.loc[-1] = [day, last_status['TankTemp'], last_status['ClosingStock_tc_readjusted'],\n",
    "                         last_status['ClosingHeight_tc_readjusted'], day_group['Var_tc_readjusted'].sum()]\n",
    "        daily.index = daily.index + 1\n",
    "        daily = daily.sort_index()\n",
    "    return daily\n",
    "\n",
    "def gaussian(x, mean, sigma):\n",
    "    return np.exp(-((x - mean) ** 2) / (2 * sigma ** 2))\n",
    "def membership_recent(x):\n",
    "    if x < 1 or x > 7:\n",
    "        return 0\n",
    "    elif 1 <= x <= 3:\n",
    "        return 1\n",
    "    elif 3 < x <= 7:\n",
    "        return (7 - x) / (7 - 3)\n",
    "def membership_medium(x):\n",
    "    if x <= 3 or x > 19:\n",
    "        return 0\n",
    "    elif 3 < x < 10:\n",
    "        return (x - 3) / (10 - 3)\n",
    "    elif 10 <= x <= 15:\n",
    "        return 1\n",
    "    elif 15 < x <= 19:\n",
    "        return (19 - x) / (19 - 15)\n",
    "def membership_long(x):\n",
    "    if x <= 15 or x > 30:\n",
    "        return 0\n",
    "    elif 15 < x < 25:\n",
    "        return (x - 15) / (25 - 15)\n",
    "    elif 25 <= x <= 30:\n",
    "        return 1\n",
    "def create_data(sample):\n",
    "    sample = sample.sort_values(by='Day', ascending=True)\n",
    "    sample['Day_Order'] = sample['Day'].rank(ascending=False)\n",
    "    sample['Membership_Recent'] = sample['Day_Order'].apply(membership_recent)\n",
    "    sample['Membership_Medium'] = sample['Day_Order'].apply(membership_medium)\n",
    "    sample['Membership_Long'] = sample['Day_Order'].apply(membership_long)\n",
    "    sample['Membership_Recent'] = sample['Membership_Recent'] / sample['Membership_Recent'].sum()\n",
    "    sample['Membership_Medium'] = sample['Membership_Medium'] / sample['Membership_Medium'].sum()\n",
    "    sample['Membership_Long'] = sample['Membership_Long'] / sample['Membership_Long'].sum()\n",
    "\n",
    "    Vartc_Recent = (sample['Var_tc_readjusted'] * sample['Membership_Recent']).sum()\n",
    "    Vartc_Medium = (sample['Var_tc_readjusted'] * sample['Membership_Medium']).sum()\n",
    "    Vartc_Long = (sample['Var_tc_readjusted'] * sample['Membership_Long']).sum()\n",
    "    ClosingHeight_tc_Recent = (sample['ClosingHeight_tc_readjusted'] * sample['Membership_Recent']).sum()\n",
    "    ClosingStock_tc_Recent = (sample['ClosingStock_tc_readjusted'] * sample['Membership_Recent']).sum()\n",
    "    Temp_Recent = (sample['TankTemp'] * sample['Membership_Recent']).sum()\n",
    "\n",
    "    var_rec_med = Vartc_Recent - Vartc_Medium\n",
    "    var_rec_long = Vartc_Recent - Vartc_Long\n",
    "    features = [var_rec_med, var_rec_long, ClosingStock_tc_Recent, ClosingHeight_tc_Recent, Temp_Recent]\n",
    "    return features"
   ],
   "metadata": {
    "collapsed": false,
    "ExecuteTime": {
     "end_time": "2024-09-27T01:21:07.756267700Z",
     "start_time": "2024-09-27T01:21:07.734268400Z"
    }
   },
   "id": "77d89cdda19609cb"
  },
  {
   "cell_type": "code",
   "execution_count": 8,
   "outputs": [],
   "source": [
    "window_size = pd.Timedelta(days=30)\n",
    "columns_sel = ['(Fuel Variance of recent period - Fuel Variance of medium period)', '(Fuel Variance of recent period - Fuel Variance of long period)', 'Inventory height of recent period', 'Likelihood']\n",
    "df_test = pd.read_csv('../test_tl_AN.csv', header=0, sep=',')\n",
    "tlgrouths = pd.read_csv('../tankleakage_info_AN.csv',index_col=0).reset_index(drop=True)\n",
    "df_test['Time'] = pd.to_datetime(df_test['Time'])\n",
    "diff = {0: 'very negative', 1: 'moderately negative', 2: 'near zero', 3: 'positive'}\n",
    "pos = {0: 'very low', 1: 'low', 2: 'middle', 3: 'high', 4: 'very high'}\n",
    "site, tank_id = 'D143', '1'\n",
    "tank_sample_id = site + '_' + tank_id"
   ],
   "metadata": {
    "collapsed": false,
    "ExecuteTime": {
     "end_time": "2024-09-27T01:55:26.805841700Z",
     "start_time": "2024-09-27T01:55:21.244636900Z"
    }
   },
   "id": "c8a33373aa7112"
  },
  {
   "cell_type": "code",
   "execution_count": 9,
   "outputs": [
    {
     "name": "stderr",
     "output_type": "stream",
     "text": [
      "C:\\Users\\Administrator\\AppData\\Local\\Temp\\ipykernel_12404\\3160114500.py:13: UserWarning: Creating a tensor from a list of numpy.ndarrays is extremely slow. Please consider converting the list to a single numpy.ndarray with numpy.array() before converting to a tensor. (Triggered internally at  ..\\torch\\csrc\\utils\\tensor_new.cpp:201.)\n",
      "  pred = model(torch.Tensor([list_val]))\n"
     ]
    }
   ],
   "source": [
    "model = torch.load('models/model_' + site + '.h5')\n",
    "tank_df = df_test[df_test['group_id'] == tank_sample_id]\n",
    "tank_info = tlgrouths[(tlgrouths['Site'] == site) & (tlgrouths['Tank'] == int(tank_id))]\n",
    "startdate = tank_info.iloc[0]['StartDate']\n",
    "temp_df = tank_df[tank_df['Time_DN'] > startdate]\n",
    "end_date = temp_df.iloc[0]['Time'] + pd.Timedelta(days=3)\n",
    "start_date = end_date - window_size\n",
    "sub_df = tank_df[(tank_df['Time'] >= start_date) & (tank_df['Time'] <= end_date)]\n",
    "daily = daily_format(sub_df)\n",
    "feature = create_data(daily)\n",
    "list_val = np.array(feature[:3])\n",
    "pred = model(torch.Tensor([list_val]))\n",
    "pred2 = torch.argmax(pred, 1)\n",
    "pred2 = pred2.detach().numpy()\n",
    "\n",
    "if pred2 == 0:\n",
    "    res = 'non-leakage'\n",
    "else:\n",
    "    res = 'leakage'\n",
    "\n",
    "rule, firerule, index_rule = load_weights.get_fire_strength(model, pred2)\n",
    "numeric_pattern = r'\\d+\\.\\d+'\n",
    "numeric_values = [float(match) for match in re.findall(numeric_pattern, rule)]\n",
    "conf_score = max(numeric_values)\n",
    "\n",
    "cons, rstr = load_weights.read_rule(model)\n",
    "exp = index_rule[0]\n",
    "list_exp = []\n",
    "for l in range(len(columns_sel) - 1):\n",
    "    deg = model.layer['rules'].mf_indices[exp, l].item()\n",
    "    if l == 0 or l == 1:\n",
    "        descrp = diff.get(deg)\n",
    "    else:\n",
    "        descrp = pos.get(deg)\n",
    "    ant = columns_sel[l] + \" is \" + descrp\n",
    "    list_exp.append(ant)"
   ],
   "metadata": {
    "collapsed": false,
    "ExecuteTime": {
     "end_time": "2024-09-27T01:55:28.667642800Z",
     "start_time": "2024-09-27T01:55:28.271895300Z"
    }
   },
   "id": "2430bdb69809b42"
  },
  {
   "cell_type": "code",
   "execution_count": 15,
   "outputs": [
    {
     "data": {
      "text/plain": "<IPython.core.display.Markdown object>",
      "text/markdown": "The top firing rule is RULE 21 with a firing strength of 0.52:  \n IF *(Fuel Variance of recent period - Fuel Variance of medium period)* is **moderately negative**  \n AND *(Fuel Variance of recent period - Fuel Variance of long period)* is **moderately negative**  \n AND *Inventory height of recent period* is **low**  \n THEN the case is **leakage**"
     },
     "metadata": {},
     "output_type": "display_data"
    },
    {
     "data": {
      "text/plain": "<IPython.core.display.Markdown object>",
      "text/markdown": ""
     },
     "metadata": {},
     "output_type": "display_data"
    },
    {
     "data": {
      "text/plain": "<IPython.core.display.Markdown object>",
      "text/markdown": "### Feature Descriptions are:  \n"
     },
     "metadata": {},
     "output_type": "display_data"
    },
    {
     "data": {
      "text/plain": "<IPython.core.display.Markdown object>",
      "text/markdown": "*(Fuel Variance of recent period - Fuel Variance of medium period)* is **moderately negative** with a membership of 98.09%, and **very negative** with a membership of 9.87%."
     },
     "metadata": {},
     "output_type": "display_data"
    },
    {
     "data": {
      "text/plain": "<IPython.core.display.Markdown object>",
      "text/markdown": "*(Fuel Variance of recent period - Fuel Variance of long period)* is **moderately negative** with a membership of 77.44%, and **very negative** with a membership of 26.42%."
     },
     "metadata": {},
     "output_type": "display_data"
    },
    {
     "data": {
      "text/plain": "<IPython.core.display.Markdown object>",
      "text/markdown": "*Inventory height of recent period* is **low** with a membership of 68.16%, and **middle** with a membership of 26.99%."
     },
     "metadata": {},
     "output_type": "display_data"
    }
   ],
   "source": [
    "reasons = []\n",
    "for j in index_rule[0:1]:\n",
    "    rr = 'The top firing rule is RULE ' + str(j) + ' with a firing strength of ' + str(round(firerule.get(j), 2)) + ':  \\n IF '\n",
    "    for l in range(len(columns_sel) - 1):\n",
    "        deg = model.layer['rules'].mf_indices[j, l].item()\n",
    "        if l == 0 or l == 1:\n",
    "            descrp = diff.get(deg)\n",
    "        else:\n",
    "            descrp = pos.get(deg)\n",
    "        if l == len(columns_sel) - 2:\n",
    "            rr += f\"*{columns_sel[l]}* is **{descrp}**\"\n",
    "        else:\n",
    "            rr += f\"*{columns_sel[l]}* is **{descrp}**  \\n AND \"\n",
    "\n",
    "    temp = rstr[j]\n",
    "    numeric_pattern = r'\\d+\\.\\d+'\n",
    "    numeric_values = [float(match) for match in re.findall(numeric_pattern, temp)]\n",
    "    max_value = max(numeric_values)\n",
    "    preds = numeric_values.index(max_value)\n",
    "    if preds == 0:\n",
    "        res = 'non-leakage'\n",
    "    else:\n",
    "        res = 'leakage'\n",
    "    \n",
    "    rr += f\"  \\n THEN the case is **{res}**\"\n",
    "    display(Markdown(rr))  # Print the Markdown string\n",
    "\n",
    "    # Add a blank line for spacing\n",
    "    display(Markdown(\"\"))\n",
    "\n",
    "    # Organize the linguistic terms\n",
    "    memberships = model.fuzzified[0, :, :]\n",
    "    top_values, top_indices = torch.topk(memberships.data, k=2, dim=-1)\n",
    "    text = '### Feature Descriptions are:  \\n'\n",
    "    \n",
    "    # Display the feature descriptions text\n",
    "    display(Markdown(text))\n",
    "    \n",
    "    for i in range(memberships.size(0)):\n",
    "        var = columns_sel[i]\n",
    "        if i != 2:\n",
    "            top1 = diff.get(top_indices[i][0].item())\n",
    "            top2 = diff.get(top_indices[i][1].item())\n",
    "        else:\n",
    "            top1 = pos.get(top_indices[i][0].item())\n",
    "            top2 = pos.get(top_indices[i][1].item())\n",
    "        \n",
    "        text = (\n",
    "            f\"*{var}* is \"\n",
    "            + f'**{top1}** with a membership of {str(round(top_values[i][0].item() * 100, 2))}%, and '\n",
    "            + f'**{top2}** with a membership of {str(round(top_values[i][1].item() * 100, 2))}%.'\n",
    "        )\n",
    "        display(Markdown(text))\n",
    "\n"
   ],
   "metadata": {
    "collapsed": false,
    "ExecuteTime": {
     "end_time": "2024-09-27T02:39:32.559563600Z",
     "start_time": "2024-09-27T02:39:32.497654300Z"
    }
   },
   "id": "812af57b04fad73e"
  },
  {
   "cell_type": "code",
   "execution_count": null,
   "outputs": [],
   "source": [],
   "metadata": {
    "collapsed": false
   },
   "id": "5ca5fcfb382fe473"
  }
 ],
 "metadata": {
  "kernelspec": {
   "display_name": "Python 3",
   "language": "python",
   "name": "python3"
  },
  "language_info": {
   "codemirror_mode": {
    "name": "ipython",
    "version": 2
   },
   "file_extension": ".py",
   "mimetype": "text/x-python",
   "name": "python",
   "nbconvert_exporter": "python",
   "pygments_lexer": "ipython2",
   "version": "2.7.6"
  }
 },
 "nbformat": 4,
 "nbformat_minor": 5
}
